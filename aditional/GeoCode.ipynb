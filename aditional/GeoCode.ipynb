{
 "cells": [
  {
   "cell_type": "code",
   "execution_count": 21,
   "id": "ranging-locator",
   "metadata": {},
   "outputs": [],
   "source": [
    "import requests\n",
    "import json\n",
    "from dotenv import load_dotenv\n",
    "import os\n",
    "import pandas as pd\n",
    "import sys\n",
    "import os\n",
    "sys.path.append(\"../\")\n",
    "from src.set_functions import *"
   ]
  },
  {
   "cell_type": "code",
   "execution_count": 24,
   "id": "cathedral-shoot",
   "metadata": {},
   "outputs": [],
   "source": [
    "load_dotenv()\n",
    "geocode_token = os.getenv(\"geocode_token\")\n",
    "where = \"birmingham\""
   ]
  },
  {
   "cell_type": "code",
   "execution_count": 14,
   "id": "square-mobile",
   "metadata": {},
   "outputs": [
    {
     "name": "stdout",
     "output_type": "stream",
     "text": [
      "BLKHYTH-KHBKK\n"
     ]
    }
   ],
   "source": [
    "resp = requests.get(f\"https://geocode.xyz/51.4647,0.0079?json=1&auth={geocode_token}\")\n",
    "json = resp.json()\n",
    "print(json['altgeocode'])"
   ]
  },
  {
   "cell_type": "code",
   "execution_count": 15,
   "id": "stylish-genius",
   "metadata": {},
   "outputs": [],
   "source": [
    "def geocode(address, geocode_token):\n",
    "    data = requests.get(f\"https://geocode.xyz/{address}?json=1&auth={geocode_token}\")\n",
    "    return data"
   ]
  },
  {
   "cell_type": "code",
   "execution_count": 17,
   "id": "entitled-spectacular",
   "metadata": {},
   "outputs": [],
   "source": [
    "city = geocode(where,geocode_token)"
   ]
  },
  {
   "cell_type": "code",
   "execution_count": 18,
   "id": "powered-reverse",
   "metadata": {},
   "outputs": [
    {
     "data": {
      "text/plain": [
       "<Response [200]>"
      ]
     },
     "execution_count": 18,
     "metadata": {},
     "output_type": "execute_result"
    }
   ],
   "source": [
    "city"
   ]
  },
  {
   "cell_type": "code",
   "execution_count": 23,
   "id": "linear-settlement",
   "metadata": {},
   "outputs": [
    {
     "data": {
      "text/plain": [
       "{'standard': {'addresst': {},\n",
       "  'city': 'Birmingham',\n",
       "  'prov': 'UK',\n",
       "  'countryname': 'United Kingdom',\n",
       "  'postal': {},\n",
       "  'confidence': '0.90'},\n",
       " 'longt': '-1.88076',\n",
       " 'alt': {'loc': {'longt': '-1.97360',\n",
       "   'prov': 'UK',\n",
       "   'city': 'Birmingham',\n",
       "   'countryname': 'United Kingdom',\n",
       "   'postal': 'B31',\n",
       "   'region': {},\n",
       "   'latt': '52.40948'}},\n",
       " 'elevation': {},\n",
       " 'remaining_credits': '-8',\n",
       " 'latt': '52.47646'}"
      ]
     },
     "execution_count": 23,
     "metadata": {},
     "output_type": "execute_result"
    }
   ],
   "source": [
    "city.json()"
   ]
  },
  {
   "cell_type": "code",
   "execution_count": 27,
   "id": "painted-defensive",
   "metadata": {},
   "outputs": [],
   "source": [
    "data = city.json()"
   ]
  },
  {
   "cell_type": "code",
   "execution_count": 32,
   "id": "fluid-adapter",
   "metadata": {},
   "outputs": [],
   "source": [
    "    city_data={}\n",
    "    city_data[\"city\"] = where\n",
    "    city_data[\"longitude\"] = data.get('longt')\n",
    "    city_data[\"latitude\"] = data.get('latt')"
   ]
  },
  {
   "cell_type": "code",
   "execution_count": 33,
   "id": "strange-receipt",
   "metadata": {},
   "outputs": [
    {
     "data": {
      "text/plain": [
       "{'city': 'birmingham', 'longitude': '-1.88076', 'latitude': '52.47646'}"
      ]
     },
     "execution_count": 33,
     "metadata": {},
     "output_type": "execute_result"
    }
   ],
   "source": [
    "city_data"
   ]
  },
  {
   "cell_type": "code",
   "execution_count": 38,
   "id": "outside-vietnam",
   "metadata": {},
   "outputs": [],
   "source": [
    "def geocode(where, geocode_token):\n",
    "    data = requests.get(f\"https://geocode.xyz/{where}?json=1&auth={geocode_token}\")\n",
    "    city = data.json()\n",
    "    city_data={}\n",
    "    city_data[\"city\"] = where\n",
    "    city_data[\"longitude\"] = city.get('longt')\n",
    "    city_data[\"latitude\"] = city.get('latt')\n",
    "    return city_data"
   ]
  },
  {
   "cell_type": "code",
   "execution_count": 39,
   "id": "organizational-railway",
   "metadata": {},
   "outputs": [],
   "source": [
    "city = geocode(where, geocode_token)"
   ]
  },
  {
   "cell_type": "code",
   "execution_count": 40,
   "id": "important-retirement",
   "metadata": {},
   "outputs": [
    {
     "data": {
      "text/plain": [
       "{'city': 'birmingham', 'longitude': '-1.88076', 'latitude': '52.47646'}"
      ]
     },
     "execution_count": 40,
     "metadata": {},
     "output_type": "execute_result"
    }
   ],
   "source": [
    "city"
   ]
  },
  {
   "cell_type": "code",
   "execution_count": null,
   "id": "figured-trouble",
   "metadata": {},
   "outputs": [],
   "source": []
  }
 ],
 "metadata": {
  "kernelspec": {
   "display_name": "Python 3",
   "language": "python",
   "name": "python3"
  },
  "language_info": {
   "codemirror_mode": {
    "name": "ipython",
    "version": 3
   },
   "file_extension": ".py",
   "mimetype": "text/x-python",
   "name": "python",
   "nbconvert_exporter": "python",
   "pygments_lexer": "ipython3",
   "version": "3.8.5"
  }
 },
 "nbformat": 4,
 "nbformat_minor": 5
}
