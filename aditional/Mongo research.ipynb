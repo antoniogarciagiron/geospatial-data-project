{
 "cells": [
  {
   "cell_type": "code",
   "execution_count": 2,
   "id": "incorrect-consumption",
   "metadata": {},
   "outputs": [],
   "source": [
    "from pymongo import MongoClient\n",
    "client = MongoClient()"
   ]
  },
  {
   "cell_type": "code",
   "execution_count": 5,
   "id": "placed-disorder",
   "metadata": {},
   "outputs": [],
   "source": [
    "db = client.ironhack"
   ]
  },
  {
   "cell_type": "code",
   "execution_count": 6,
   "id": "hired-talent",
   "metadata": {},
   "outputs": [
    {
     "data": {
      "text/plain": [
       "Collection(Database(MongoClient(host=['localhost:27017'], document_class=dict, tz_aware=False, connect=True), 'ironhack'), 'companies')"
      ]
     },
     "execution_count": 6,
     "metadata": {},
     "output_type": "execute_result"
    }
   ],
   "source": [
    "db.companies"
   ]
  },
  {
   "cell_type": "code",
   "execution_count": 8,
   "id": "favorite-bryan",
   "metadata": {},
   "outputs": [
    {
     "data": {
      "text/plain": [
       "[{'name': 'Google', 'category_code': 'search'},\n",
       " {'name': 'Glaxstar', 'category_code': 'software'},\n",
       " {'name': 'Domegos', 'category_code': 'web'},\n",
       " {'name': 'Learn10', 'category_code': 'web'},\n",
       " {'name': 'adflyer', 'category_code': 'ecommerce'},\n",
       " {'name': 'Netklix Ltd', 'category_code': 'advertising'},\n",
       " {'name': 'OCLC', 'category_code': 'other'},\n",
       " {'name': 'Netklix Ltd', 'category_code': 'advertising'},\n",
       " {'name': 'OCLC', 'category_code': 'other'},\n",
       " {'name': 'Pumant', 'category_code': 'software'},\n",
       " {'name': 'Invictus Technology', 'category_code': 'consulting'},\n",
       " {'name': 'Showtime Studios', 'category_code': 'public_relations'},\n",
       " {'name': 'OnePage', 'category_code': 'web'},\n",
       " {'name': 'Mudlark', 'category_code': 'games_video'}]"
      ]
     },
     "execution_count": 8,
     "metadata": {},
     "output_type": "execute_result"
    }
   ],
   "source": [
    "filt = {\"$and\":[{\"offices.city\":\"Birmingham\"},{\"offices.country_code\":\"GBR\"}]}\n",
    "project = {\"_id\":0, \"name\":1, \"category_code\":1} \n",
    "\n",
    "results = db.companies.find(filt,project)\n",
    "results = list(results)\n",
    "results"
   ]
  },
  {
   "cell_type": "code",
   "execution_count": null,
   "id": "nervous-twist",
   "metadata": {},
   "outputs": [],
   "source": []
  }
 ],
 "metadata": {
  "kernelspec": {
   "display_name": "Python 3",
   "language": "python",
   "name": "python3"
  },
  "language_info": {
   "codemirror_mode": {
    "name": "ipython",
    "version": 3
   },
   "file_extension": ".py",
   "mimetype": "text/x-python",
   "name": "python",
   "nbconvert_exporter": "python",
   "pygments_lexer": "ipython3",
   "version": "3.8.5"
  }
 },
 "nbformat": 4,
 "nbformat_minor": 5
}
