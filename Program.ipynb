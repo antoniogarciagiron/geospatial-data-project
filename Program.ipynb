{
 "cells": [
  {
   "cell_type": "markdown",
   "id": "heavy-resource",
   "metadata": {},
   "source": [
    "# Geospatial analysis"
   ]
  },
  {
   "cell_type": "markdown",
   "id": "municipal-agenda",
   "metadata": {},
   "source": [
    "- Comment: Cartoframes.viz was used during the search in Foursquare API, however, to plot the final results, Foium maps were used"
   ]
  },
  {
   "cell_type": "code",
   "execution_count": 1,
   "id": "sonic-relay",
   "metadata": {},
   "outputs": [
    {
     "data": {
      "text/plain": [
       "True"
      ]
     },
     "execution_count": 1,
     "metadata": {},
     "output_type": "execute_result"
    }
   ],
   "source": [
    "import sys\n",
    "import os\n",
    "sys.path.append(\"../\")\n",
    "from src.set_functions import *\n",
    "from src.createmaps import *\n",
    "from dotenv import load_dotenv\n",
    "load_dotenv()"
   ]
  },
  {
   "cell_type": "markdown",
   "id": "administrative-theater",
   "metadata": {},
   "source": [
    "- The tokens for Geocode and foursquare are in the .env file"
   ]
  },
  {
   "cell_type": "code",
   "execution_count": 2,
   "id": "compact-permit",
   "metadata": {},
   "outputs": [],
   "source": [
    "tok1 = os.getenv(\"tok1\")\n",
    "tok2 = os.getenv(\"tok2\")\n",
    "geocode_token = os.getenv(\"geocode_token\")"
   ]
  },
  {
   "cell_type": "markdown",
   "id": "still-guinea",
   "metadata": {},
   "source": [
    "- The following code-box is used to obtain the coordinates of the chosen city, in my case, Birmingham, however, as sometimes Geocode API has problems, the coordinates are given below"
   ]
  },
  {
   "cell_type": "code",
   "execution_count": 3,
   "id": "bigger-paintball",
   "metadata": {},
   "outputs": [],
   "source": [
    "#This function returns the city coordinates, if the Token and the website are working it can be used.\n",
    "where = \"birmingham\"\n",
    "geo_city = geocode(where, geocode_token)\n",
    "lon = geo_city.get(\"longitude\")\n",
    "lat = geo_city.get(\"latitude\")\n",
    "city = {'type': 'Point', 'coordinates': [lon, lat]}"
   ]
  },
  {
   "cell_type": "markdown",
   "id": "swiss-crisis",
   "metadata": {},
   "source": [
    "- The fist list we want to find is the Starbucks in the city centre, we limit the search to 20"
   ]
  },
  {
   "cell_type": "code",
   "execution_count": 4,
   "id": "vietnamese-buffer",
   "metadata": {},
   "outputs": [],
   "source": [
    "#In case Geocode doesn't work, here are the Birmingham (UK) coordinates:\n",
    "city = {'type': 'Point', 'coordinates': [52.47646,-1.88076]}\n",
    "looking_for_1 = \"starbucks\"\n",
    "limit = 20"
   ]
  },
  {
   "cell_type": "markdown",
   "id": "headed-director",
   "metadata": {},
   "source": [
    "- Comment: dataframes were created to use Cartoframes during the fist steps of the search, I'm not using them anymore, but I didn't want to delete them, in case I need to come back later and use them."
   ]
  },
  {
   "cell_type": "code",
   "execution_count": 5,
   "id": "immune-facing",
   "metadata": {},
   "outputs": [],
   "source": [
    "data = find_list_foursquare(city, looking_for_1, tok1, tok2, limit)\n",
    "final_list_1 = get_coordinates_from_list(data)\n",
    "gdf = create_table(final_list_1)"
   ]
  },
  {
   "cell_type": "markdown",
   "id": "superior-verification",
   "metadata": {},
   "source": [
    "- Then we look for a list of schools"
   ]
  },
  {
   "cell_type": "code",
   "execution_count": 6,
   "id": "ceramic-spectacular",
   "metadata": {},
   "outputs": [],
   "source": [
    "looking_for_2 = \"school\"\n",
    "limit = 20\n",
    "data_2 = find_list_foursquare(city, looking_for_2, tok1, tok2, limit)\n",
    "final_list_2 = get_coordinates_from_list(data_2)\n",
    "gdf_2 = create_table(final_list_2)"
   ]
  },
  {
   "cell_type": "markdown",
   "id": "senior-signal",
   "metadata": {},
   "source": [
    "- List of pubs"
   ]
  },
  {
   "cell_type": "code",
   "execution_count": 7,
   "id": "accessory-architecture",
   "metadata": {},
   "outputs": [],
   "source": [
    "looking_for_3 = \"pub\"\n",
    "limit = 30\n",
    "data_3 = find_list_foursquare(city, looking_for_3, tok1, tok2, limit)\n",
    "final_list_3 = get_coordinates_from_list(data_3)\n",
    "gdf_3 = create_table(final_list_3)"
   ]
  },
  {
   "cell_type": "markdown",
   "id": "painted-national",
   "metadata": {},
   "source": [
    "- Finally, list of train stations, it is limited to 5, in the city centre there are 3 main train stations, however, the search in Foursquares is giving me the platforms as results. That's why I'm limiting the search to 5"
   ]
  },
  {
   "cell_type": "code",
   "execution_count": 8,
   "id": "chief-stopping",
   "metadata": {},
   "outputs": [],
   "source": [
    "looking_for_4 = \"Train Station\"\n",
    "limit = 5\n",
    "data_4 = find_list_foursquare(city, looking_for_4, tok1, tok2, limit)\n",
    "final_list_4 = get_coordinates_from_list(data_4)\n",
    "gdf_4 = create_table(final_list_4)"
   ]
  },
  {
   "cell_type": "markdown",
   "id": "commercial-afghanistan",
   "metadata": {},
   "source": [
    "- I call the function all_combinations, it takes the 4 list obtained above and returns ALL the possible combinations with one place from each list\n",
    "- In the src folder there is another function, (i.e n_list_combination), to make the same but with n lists instead of 4, is more general and makes the same but without the limitation of using 4 lists. Both functions can be used, however, I rather use the limited one for safety reasons, as the function closer_places needs 4 arguments. "
   ]
  },
  {
   "cell_type": "code",
   "execution_count": 9,
   "id": "moderate-australian",
   "metadata": {},
   "outputs": [],
   "source": [
    "polygon = all_combinations(final_list_1, final_list_2, final_list_3, final_list_4)"
   ]
  },
  {
   "cell_type": "markdown",
   "id": "applied-pound",
   "metadata": {},
   "source": [
    "- I call the function get_optimal_combination. Given the list of possible combinations, it calculates the distance between the 4 places (Perimeter of the 4-sided concave polygon and the 2 diagonals), sums the 6 distances and returns the combination with the smallest sum of distances between the places"
   ]
  },
  {
   "cell_type": "code",
   "execution_count": 10,
   "id": "saved-television",
   "metadata": {},
   "outputs": [],
   "source": [
    "closer_places = get_optimal_combination(polygon)"
   ]
  },
  {
   "cell_type": "markdown",
   "id": "detected-dover",
   "metadata": {},
   "source": [
    "- The optimal coordinates are shown as follows:"
   ]
  },
  {
   "cell_type": "code",
   "execution_count": 11,
   "id": "powerful-producer",
   "metadata": {},
   "outputs": [
    {
     "data": {
      "text/plain": [
       "[[52.479158, -1.89932],\n",
       " [52.48083, -1.8973938],\n",
       " [52.47917395373524, -1.8986854974151004],\n",
       " [52.47775090364966, -1.899928107174874]]"
      ]
     },
     "execution_count": 11,
     "metadata": {},
     "output_type": "execute_result"
    }
   ],
   "source": [
    "closer_places"
   ]
  },
  {
   "cell_type": "markdown",
   "id": "engaging-cemetery",
   "metadata": {},
   "source": [
    "- The coordinates given above correspond to the following list of tags, I preffer to call them as they were looked for during the search. It will avoid potential errors and misunderstandings with the names given by the Foursquares API, for example, a place returned from the API could be named \"St. Patrick\", but we don't know if it's a pub, a train station..."
   ]
  },
  {
   "cell_type": "code",
   "execution_count": 12,
   "id": "painful-single",
   "metadata": {},
   "outputs": [
    {
     "data": {
      "text/plain": [
       "['starbucks', 'school', 'pub', 'Train Station']"
      ]
     },
     "execution_count": 12,
     "metadata": {},
     "output_type": "execute_result"
    }
   ],
   "source": [
    "tags = [looking_for_1, looking_for_2, looking_for_3, looking_for_4]\n",
    "tags"
   ]
  },
  {
   "cell_type": "markdown",
   "id": "eligible-bulgarian",
   "metadata": {},
   "source": [
    "- Calling the function get_centroid_place:\n",
    "    - Given the coordinates of the optimal combination of places, now I calculate their centroid, obtaining the place between them with smaller distance to the 4 positions \n",
    "    - The optimal place of the optimal set of combinations, so this is the place chosen, and the office shold be there (Obviously this is the CEO' decision, and if there were a park in the middle or something else we should move it to the side, but the optimal place is there"
   ]
  },
  {
   "cell_type": "code",
   "execution_count": 13,
   "id": "together-location",
   "metadata": {},
   "outputs": [
    {
     "data": {
      "text/plain": [
       "[52.47922821434622, -1.8988318511474938]"
      ]
     },
     "execution_count": 13,
     "metadata": {},
     "output_type": "execute_result"
    }
   ],
   "source": [
    "the_place = get_centroid_place(closer_places)\n",
    "the_place"
   ]
  },
  {
   "cell_type": "markdown",
   "id": "stupid-merchant",
   "metadata": {},
   "source": [
    "- The places are shown in the following map"
   ]
  },
  {
   "cell_type": "code",
   "execution_count": 14,
   "id": "spare-chain",
   "metadata": {},
   "outputs": [
    {
     "data": {
      "text/html": [
       "<div style=\"width:100%;\"><div style=\"position:relative;width:100%;height:0;padding-bottom:60%;\"><span style=\"color:#565656\">Make this Notebook Trusted to load map: File -> Trust Notebook</span><iframe src=\"about:blank\" style=\"position:absolute;width:100%;height:100%;left:0;top:0;border:none !important;\" data-html=%3C%21DOCTYPE%20html%3E%0A%3Chead%3E%20%20%20%20%0A%20%20%20%20%3Cmeta%20http-equiv%3D%22content-type%22%20content%3D%22text/html%3B%20charset%3DUTF-8%22%20/%3E%0A%20%20%20%20%0A%20%20%20%20%20%20%20%20%3Cscript%3E%0A%20%20%20%20%20%20%20%20%20%20%20%20L_NO_TOUCH%20%3D%20false%3B%0A%20%20%20%20%20%20%20%20%20%20%20%20L_DISABLE_3D%20%3D%20false%3B%0A%20%20%20%20%20%20%20%20%3C/script%3E%0A%20%20%20%20%0A%20%20%20%20%3Cstyle%3Ehtml%2C%20body%20%7Bwidth%3A%20100%25%3Bheight%3A%20100%25%3Bmargin%3A%200%3Bpadding%3A%200%3B%7D%3C/style%3E%0A%20%20%20%20%3Cstyle%3E%23map%20%7Bposition%3Aabsolute%3Btop%3A0%3Bbottom%3A0%3Bright%3A0%3Bleft%3A0%3B%7D%3C/style%3E%0A%20%20%20%20%3Cscript%20src%3D%22https%3A//cdn.jsdelivr.net/npm/leaflet%401.6.0/dist/leaflet.js%22%3E%3C/script%3E%0A%20%20%20%20%3Cscript%20src%3D%22https%3A//code.jquery.com/jquery-1.12.4.min.js%22%3E%3C/script%3E%0A%20%20%20%20%3Cscript%20src%3D%22https%3A//maxcdn.bootstrapcdn.com/bootstrap/3.2.0/js/bootstrap.min.js%22%3E%3C/script%3E%0A%20%20%20%20%3Cscript%20src%3D%22https%3A//cdnjs.cloudflare.com/ajax/libs/Leaflet.awesome-markers/2.0.2/leaflet.awesome-markers.js%22%3E%3C/script%3E%0A%20%20%20%20%3Clink%20rel%3D%22stylesheet%22%20href%3D%22https%3A//cdn.jsdelivr.net/npm/leaflet%401.6.0/dist/leaflet.css%22/%3E%0A%20%20%20%20%3Clink%20rel%3D%22stylesheet%22%20href%3D%22https%3A//maxcdn.bootstrapcdn.com/bootstrap/3.2.0/css/bootstrap.min.css%22/%3E%0A%20%20%20%20%3Clink%20rel%3D%22stylesheet%22%20href%3D%22https%3A//maxcdn.bootstrapcdn.com/bootstrap/3.2.0/css/bootstrap-theme.min.css%22/%3E%0A%20%20%20%20%3Clink%20rel%3D%22stylesheet%22%20href%3D%22https%3A//maxcdn.bootstrapcdn.com/font-awesome/4.6.3/css/font-awesome.min.css%22/%3E%0A%20%20%20%20%3Clink%20rel%3D%22stylesheet%22%20href%3D%22https%3A//cdnjs.cloudflare.com/ajax/libs/Leaflet.awesome-markers/2.0.2/leaflet.awesome-markers.css%22/%3E%0A%20%20%20%20%3Clink%20rel%3D%22stylesheet%22%20href%3D%22https%3A//cdn.jsdelivr.net/gh/python-visualization/folium/folium/templates/leaflet.awesome.rotate.min.css%22/%3E%0A%20%20%20%20%0A%20%20%20%20%20%20%20%20%20%20%20%20%3Cmeta%20name%3D%22viewport%22%20content%3D%22width%3Ddevice-width%2C%0A%20%20%20%20%20%20%20%20%20%20%20%20%20%20%20%20initial-scale%3D1.0%2C%20maximum-scale%3D1.0%2C%20user-scalable%3Dno%22%20/%3E%0A%20%20%20%20%20%20%20%20%20%20%20%20%3Cstyle%3E%0A%20%20%20%20%20%20%20%20%20%20%20%20%20%20%20%20%23map_60260fe058334eb4ad3a56733a6722e7%20%7B%0A%20%20%20%20%20%20%20%20%20%20%20%20%20%20%20%20%20%20%20%20position%3A%20relative%3B%0A%20%20%20%20%20%20%20%20%20%20%20%20%20%20%20%20%20%20%20%20width%3A%20100.0%25%3B%0A%20%20%20%20%20%20%20%20%20%20%20%20%20%20%20%20%20%20%20%20height%3A%20100.0%25%3B%0A%20%20%20%20%20%20%20%20%20%20%20%20%20%20%20%20%20%20%20%20left%3A%200.0%25%3B%0A%20%20%20%20%20%20%20%20%20%20%20%20%20%20%20%20%20%20%20%20top%3A%200.0%25%3B%0A%20%20%20%20%20%20%20%20%20%20%20%20%20%20%20%20%7D%0A%20%20%20%20%20%20%20%20%20%20%20%20%3C/style%3E%0A%20%20%20%20%20%20%20%20%0A%3C/head%3E%0A%3Cbody%3E%20%20%20%20%0A%20%20%20%20%0A%20%20%20%20%20%20%20%20%20%20%20%20%3Cdiv%20class%3D%22folium-map%22%20id%3D%22map_60260fe058334eb4ad3a56733a6722e7%22%20%3E%3C/div%3E%0A%20%20%20%20%20%20%20%20%0A%3C/body%3E%0A%3Cscript%3E%20%20%20%20%0A%20%20%20%20%0A%20%20%20%20%20%20%20%20%20%20%20%20var%20map_60260fe058334eb4ad3a56733a6722e7%20%3D%20L.map%28%0A%20%20%20%20%20%20%20%20%20%20%20%20%20%20%20%20%22map_60260fe058334eb4ad3a56733a6722e7%22%2C%0A%20%20%20%20%20%20%20%20%20%20%20%20%20%20%20%20%7B%0A%20%20%20%20%20%20%20%20%20%20%20%20%20%20%20%20%20%20%20%20center%3A%20%5B52.47922821434622%2C%20-1.8988318511474938%5D%2C%0A%20%20%20%20%20%20%20%20%20%20%20%20%20%20%20%20%20%20%20%20crs%3A%20L.CRS.EPSG3857%2C%0A%20%20%20%20%20%20%20%20%20%20%20%20%20%20%20%20%20%20%20%20zoom%3A%2015%2C%0A%20%20%20%20%20%20%20%20%20%20%20%20%20%20%20%20%20%20%20%20zoomControl%3A%20true%2C%0A%20%20%20%20%20%20%20%20%20%20%20%20%20%20%20%20%20%20%20%20preferCanvas%3A%20false%2C%0A%20%20%20%20%20%20%20%20%20%20%20%20%20%20%20%20%7D%0A%20%20%20%20%20%20%20%20%20%20%20%20%29%3B%0A%0A%20%20%20%20%20%20%20%20%20%20%20%20%0A%0A%20%20%20%20%20%20%20%20%0A%20%20%20%20%0A%20%20%20%20%20%20%20%20%20%20%20%20var%20tile_layer_7da87cfea7ad4ff098f6ec0e08c7e2bf%20%3D%20L.tileLayer%28%0A%20%20%20%20%20%20%20%20%20%20%20%20%20%20%20%20%22https%3A//%7Bs%7D.tile.openstreetmap.org/%7Bz%7D/%7Bx%7D/%7By%7D.png%22%2C%0A%20%20%20%20%20%20%20%20%20%20%20%20%20%20%20%20%7B%22attribution%22%3A%20%22Data%20by%20%5Cu0026copy%3B%20%5Cu003ca%20href%3D%5C%22http%3A//openstreetmap.org%5C%22%5Cu003eOpenStreetMap%5Cu003c/a%5Cu003e%2C%20under%20%5Cu003ca%20href%3D%5C%22http%3A//www.openstreetmap.org/copyright%5C%22%5Cu003eODbL%5Cu003c/a%5Cu003e.%22%2C%20%22detectRetina%22%3A%20false%2C%20%22maxNativeZoom%22%3A%2018%2C%20%22maxZoom%22%3A%2018%2C%20%22minZoom%22%3A%200%2C%20%22noWrap%22%3A%20false%2C%20%22opacity%22%3A%201%2C%20%22subdomains%22%3A%20%22abc%22%2C%20%22tms%22%3A%20false%7D%0A%20%20%20%20%20%20%20%20%20%20%20%20%29.addTo%28map_60260fe058334eb4ad3a56733a6722e7%29%3B%0A%20%20%20%20%20%20%20%20%0A%20%20%20%20%0A%20%20%20%20%20%20%20%20%20%20%20%20var%20marker_8ef583da94574d5da6b6035c4520737e%20%3D%20L.marker%28%0A%20%20%20%20%20%20%20%20%20%20%20%20%20%20%20%20%5B52.479158%2C%20-1.89932%5D%2C%0A%20%20%20%20%20%20%20%20%20%20%20%20%20%20%20%20%7B%7D%0A%20%20%20%20%20%20%20%20%20%20%20%20%29.addTo%28map_60260fe058334eb4ad3a56733a6722e7%29%3B%0A%20%20%20%20%20%20%20%20%0A%20%20%20%20%0A%20%20%20%20%20%20%20%20%20%20%20%20var%20icon_72edcd1357a34b519ede883a46a2cc45%20%3D%20L.AwesomeMarkers.icon%28%0A%20%20%20%20%20%20%20%20%20%20%20%20%20%20%20%20%7B%22extraClasses%22%3A%20%22fa-rotate-0%22%2C%20%22icon%22%3A%20%22flag%22%2C%20%22iconColor%22%3A%20%22black%22%2C%20%22markerColor%22%3A%20%22green%22%2C%20%22prefix%22%3A%20%22fa%22%2C%20%22tooltip%22%3A%20%22starbucks%22%7D%0A%20%20%20%20%20%20%20%20%20%20%20%20%29%3B%0A%20%20%20%20%20%20%20%20%20%20%20%20marker_8ef583da94574d5da6b6035c4520737e.setIcon%28icon_72edcd1357a34b519ede883a46a2cc45%29%3B%0A%20%20%20%20%20%20%20%20%0A%20%20%20%20%0A%20%20%20%20%20%20%20%20%20%20%20%20var%20marker_d1873ef3f7f143c0bc54445f5c1b0646%20%3D%20L.marker%28%0A%20%20%20%20%20%20%20%20%20%20%20%20%20%20%20%20%5B52.48083%2C%20-1.8973938%5D%2C%0A%20%20%20%20%20%20%20%20%20%20%20%20%20%20%20%20%7B%7D%0A%20%20%20%20%20%20%20%20%20%20%20%20%29.addTo%28map_60260fe058334eb4ad3a56733a6722e7%29%3B%0A%20%20%20%20%20%20%20%20%0A%20%20%20%20%0A%20%20%20%20%20%20%20%20%20%20%20%20var%20icon_1ec1501683044eb4ac21dafd495d6a26%20%3D%20L.AwesomeMarkers.icon%28%0A%20%20%20%20%20%20%20%20%20%20%20%20%20%20%20%20%7B%22extraClasses%22%3A%20%22fa-rotate-0%22%2C%20%22icon%22%3A%20%22flag%22%2C%20%22iconColor%22%3A%20%22black%22%2C%20%22markerColor%22%3A%20%22green%22%2C%20%22prefix%22%3A%20%22fa%22%2C%20%22tooltip%22%3A%20%22school%22%7D%0A%20%20%20%20%20%20%20%20%20%20%20%20%29%3B%0A%20%20%20%20%20%20%20%20%20%20%20%20marker_d1873ef3f7f143c0bc54445f5c1b0646.setIcon%28icon_1ec1501683044eb4ac21dafd495d6a26%29%3B%0A%20%20%20%20%20%20%20%20%0A%20%20%20%20%0A%20%20%20%20%20%20%20%20%20%20%20%20var%20marker_9e7d08f47f3042ae80956520575020c7%20%3D%20L.marker%28%0A%20%20%20%20%20%20%20%20%20%20%20%20%20%20%20%20%5B52.47917395373524%2C%20-1.8986854974151004%5D%2C%0A%20%20%20%20%20%20%20%20%20%20%20%20%20%20%20%20%7B%7D%0A%20%20%20%20%20%20%20%20%20%20%20%20%29.addTo%28map_60260fe058334eb4ad3a56733a6722e7%29%3B%0A%20%20%20%20%20%20%20%20%0A%20%20%20%20%0A%20%20%20%20%20%20%20%20%20%20%20%20var%20icon_c021e231f27d46b69567f557b5032f12%20%3D%20L.AwesomeMarkers.icon%28%0A%20%20%20%20%20%20%20%20%20%20%20%20%20%20%20%20%7B%22extraClasses%22%3A%20%22fa-rotate-0%22%2C%20%22icon%22%3A%20%22flag%22%2C%20%22iconColor%22%3A%20%22black%22%2C%20%22markerColor%22%3A%20%22green%22%2C%20%22prefix%22%3A%20%22fa%22%2C%20%22tooltip%22%3A%20%22pub%22%7D%0A%20%20%20%20%20%20%20%20%20%20%20%20%29%3B%0A%20%20%20%20%20%20%20%20%20%20%20%20marker_9e7d08f47f3042ae80956520575020c7.setIcon%28icon_c021e231f27d46b69567f557b5032f12%29%3B%0A%20%20%20%20%20%20%20%20%0A%20%20%20%20%0A%20%20%20%20%20%20%20%20%20%20%20%20var%20marker_e3c79316026345c882835e3b078abb12%20%3D%20L.marker%28%0A%20%20%20%20%20%20%20%20%20%20%20%20%20%20%20%20%5B52.47775090364966%2C%20-1.899928107174874%5D%2C%0A%20%20%20%20%20%20%20%20%20%20%20%20%20%20%20%20%7B%7D%0A%20%20%20%20%20%20%20%20%20%20%20%20%29.addTo%28map_60260fe058334eb4ad3a56733a6722e7%29%3B%0A%20%20%20%20%20%20%20%20%0A%20%20%20%20%0A%20%20%20%20%20%20%20%20%20%20%20%20var%20icon_d9f9585e790c4fb988eacb9431a0fb3b%20%3D%20L.AwesomeMarkers.icon%28%0A%20%20%20%20%20%20%20%20%20%20%20%20%20%20%20%20%7B%22extraClasses%22%3A%20%22fa-rotate-0%22%2C%20%22icon%22%3A%20%22flag%22%2C%20%22iconColor%22%3A%20%22black%22%2C%20%22markerColor%22%3A%20%22green%22%2C%20%22prefix%22%3A%20%22fa%22%2C%20%22tooltip%22%3A%20%22Train%20Station%22%7D%0A%20%20%20%20%20%20%20%20%20%20%20%20%29%3B%0A%20%20%20%20%20%20%20%20%20%20%20%20marker_e3c79316026345c882835e3b078abb12.setIcon%28icon_d9f9585e790c4fb988eacb9431a0fb3b%29%3B%0A%20%20%20%20%20%20%20%20%0A%20%20%20%20%0A%20%20%20%20%20%20%20%20%20%20%20%20var%20marker_938c237984b44621b7829f9aebb93022%20%3D%20L.marker%28%0A%20%20%20%20%20%20%20%20%20%20%20%20%20%20%20%20%5B52.47922821434622%2C%20-1.8988318511474938%5D%2C%0A%20%20%20%20%20%20%20%20%20%20%20%20%20%20%20%20%7B%7D%0A%20%20%20%20%20%20%20%20%20%20%20%20%29.addTo%28map_60260fe058334eb4ad3a56733a6722e7%29%3B%0A%20%20%20%20%20%20%20%20%0A%20%20%20%20%0A%20%20%20%20%20%20%20%20%20%20%20%20var%20icon_1116be89c9a24c368cef8ab258cb2408%20%3D%20L.AwesomeMarkers.icon%28%0A%20%20%20%20%20%20%20%20%20%20%20%20%20%20%20%20%7B%22extraClasses%22%3A%20%22fa-rotate-0%22%2C%20%22icon%22%3A%20%22space-shuttle%22%2C%20%22iconColor%22%3A%20%22black%22%2C%20%22markerColor%22%3A%20%22red%22%2C%20%22prefix%22%3A%20%22fa%22%2C%20%22tooltip%22%3A%20%22The%20place%22%7D%0A%20%20%20%20%20%20%20%20%20%20%20%20%29%3B%0A%20%20%20%20%20%20%20%20%20%20%20%20marker_938c237984b44621b7829f9aebb93022.setIcon%28icon_1116be89c9a24c368cef8ab258cb2408%29%3B%0A%20%20%20%20%20%20%20%20%0A%3C/script%3E onload=\"this.contentDocument.open();this.contentDocument.write(    decodeURIComponent(this.getAttribute('data-html')));this.contentDocument.close();\" allowfullscreen webkitallowfullscreen mozallowfullscreen></iframe></div></div>"
      ],
      "text/plain": [
       "<folium.folium.Map at 0x2135657ceb0>"
      ]
     },
     "execution_count": 14,
     "metadata": {},
     "output_type": "execute_result"
    }
   ],
   "source": [
    "get_the_map(closer_places, the_place, tags)"
   ]
  }
 ],
 "metadata": {
  "kernelspec": {
   "display_name": "Python 3",
   "language": "python",
   "name": "python3"
  },
  "language_info": {
   "codemirror_mode": {
    "name": "ipython",
    "version": 3
   },
   "file_extension": ".py",
   "mimetype": "text/x-python",
   "name": "python",
   "nbconvert_exporter": "python",
   "pygments_lexer": "ipython3",
   "version": "3.8.5"
  }
 },
 "nbformat": 4,
 "nbformat_minor": 5
}
